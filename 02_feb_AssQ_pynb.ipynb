{
  "nbformat": 4,
  "nbformat_minor": 0,
  "metadata": {
    "colab": {
      "provenance": []
    },
    "kernelspec": {
      "name": "python3",
      "display_name": "Python 3"
    },
    "language_info": {
      "name": "python"
    }
  },
  "cells": [
    {
      "cell_type": "markdown",
      "source": [
        "# ***Q1. Explain with an example each when to use a for loop and a while loop.***"
      ],
      "metadata": {
        "id": "RTvSd-EKH52O"
      }
    },
    {
      "cell_type": "markdown",
      "source": [
        "# **For loop: A for loop is a control flow statement that executes code repeatedly for a particular number of iterations. In this control flow statement, the keyword used is for. The for loop is used when the number of iterations is already known.**\n",
        "\n",
        "# **While loop: A loop that executes a single statement or a group of statements for the given true condition. The keyword used to represent this loop is \"while\". A \"while\" loop is used when the number of iterations is unknown. The statement repeats itself till the boolean value becomes false. In a while loop, the condition is tested at the start, also known as the pre-test loop.**"
      ],
      "metadata": {
        "id": "BlDQBOQXH-JR"
      }
    },
    {
      "cell_type": "code",
      "source": [
        "for i in range(1,10):\n",
        "    print(i)"
      ],
      "metadata": {
        "colab": {
          "base_uri": "https://localhost:8080/"
        },
        "id": "aUZ8xs1nIkTP",
        "outputId": "c2ec91ec-052a-48a2-95a3-6f2b8deb7c4d"
      },
      "execution_count": 1,
      "outputs": [
        {
          "output_type": "stream",
          "name": "stdout",
          "text": [
            "1\n",
            "2\n",
            "3\n",
            "4\n",
            "5\n",
            "6\n",
            "7\n",
            "8\n",
            "9\n"
          ]
        }
      ]
    },
    {
      "cell_type": "code",
      "source": [
        "i =0\n",
        "while(i<10):\n",
        "    print(i)\n",
        "    i =i+1"
      ],
      "metadata": {
        "colab": {
          "base_uri": "https://localhost:8080/"
        },
        "id": "icmFMDntIwOf",
        "outputId": "b36e7235-f612-4fdf-c45e-0809829fae7e"
      },
      "execution_count": 2,
      "outputs": [
        {
          "output_type": "stream",
          "name": "stdout",
          "text": [
            "0\n",
            "1\n",
            "2\n",
            "3\n",
            "4\n",
            "5\n",
            "6\n",
            "7\n",
            "8\n",
            "9\n"
          ]
        }
      ]
    },
    {
      "cell_type": "markdown",
      "source": [
        "# ***Q2. Write a python program to print the sum and product of the first 10 natural numbers using for and while loop.***"
      ],
      "metadata": {
        "id": "UhMrw9cvI1Mg"
      }
    },
    {
      "cell_type": "code",
      "source": [
        "#for loop\n",
        "sum=0\n",
        "product =1\n",
        "for i in range(1,11):\n",
        "    sum = sum+i\n",
        "    product = product*i\n",
        "\n",
        "print(\"sum of 10 nos are:\",sum)\n",
        "print(\"product of 10 nos are:\",product)"
      ],
      "metadata": {
        "colab": {
          "base_uri": "https://localhost:8080/"
        },
        "id": "JKvPdP2SI8M8",
        "outputId": "bcce6a46-2aed-4c14-c24e-b29187ed4e16"
      },
      "execution_count": 3,
      "outputs": [
        {
          "output_type": "stream",
          "name": "stdout",
          "text": [
            "sum of 10 nos are: 55\n",
            "product of 10 nos are: 3628800\n"
          ]
        }
      ]
    },
    {
      "cell_type": "code",
      "source": [
        "#while loop\n",
        "sum=0\n",
        "products =1\n",
        "i=1\n",
        "while (i<11):\n",
        "    sum = sum+i\n",
        "    products = products*i\n",
        "    i +=1\n",
        "print(\"sum of 10 nos are:\",sum)\n",
        "print(\"product of 10 nos are:\",products)"
      ],
      "metadata": {
        "colab": {
          "base_uri": "https://localhost:8080/"
        },
        "id": "vTZhfs03JDvN",
        "outputId": "9d1782fa-cd17-4491-ed15-bd8f5d1bd0c5"
      },
      "execution_count": 4,
      "outputs": [
        {
          "output_type": "stream",
          "name": "stdout",
          "text": [
            "sum of 10 nos are: 55\n",
            "product of 10 nos are: 3628800\n"
          ]
        }
      ]
    },
    {
      "cell_type": "markdown",
      "source": [
        "# ***Q3. Create a python program to compute the electricity bill for a household. The per-unit charges in rupees are as follows: For the first 100 units, the user will be charged Rs. 4.5 per unit, for the next 100 units, the user will be charged Rs. 6 per unit, and for the next 100 units, the user will be charged Rs. 10 per unit, After 300 units and above the user will be charged Rs. 20 per unit. Your program must pass this test case: when the unit of electricity consumed by the user in a month is 310, the total electricity bill should be 2250.***"
      ],
      "metadata": {
        "id": "m73PKJAcJFiF"
      }
    },
    {
      "cell_type": "code",
      "source": [
        "units = int(input('Enter Units: '))\n",
        "bill = 0\n",
        "if units <= 100:\n",
        "    bill += 4.5*units\n",
        "    units -= 100\n",
        "elif units > 100 and units <= 200:\n",
        "    bill += 450\n",
        "    units -= 100\n",
        "    bill += 6*units\n",
        "elif units > 200 and units <= 300:\n",
        "    bill += 450+600\n",
        "    units -= 200\n",
        "    bill += 10*units\n",
        "elif units > 300:\n",
        "    bill += 450+600+1000\n",
        "    units -= 300\n",
        "    bill += 20*units\n",
        "print(f'Total Electricity Bill Rs.{bill}')\n"
      ],
      "metadata": {
        "colab": {
          "base_uri": "https://localhost:8080/"
        },
        "id": "Q2MJpbN2JNbT",
        "outputId": "b1b52526-c396-4d4e-9730-9ddf9a17e479"
      },
      "execution_count": 5,
      "outputs": [
        {
          "output_type": "stream",
          "name": "stdout",
          "text": [
            "Enter Units: 500\n",
            "Total Electricity Bill Rs.6050\n"
          ]
        }
      ]
    },
    {
      "cell_type": "markdown",
      "source": [
        "# ***Q4. Create a list of numbers from 1 to 100. Use for loop and while loop to calculate the cube of each number and if the cube of that number is divisible by 4 or 5 then append that number in a list and print that list.***"
      ],
      "metadata": {
        "id": "5dGhr9czJXi5"
      }
    },
    {
      "cell_type": "code",
      "source": [
        "#for loop\n",
        "l = list(range(1,101))\n",
        "\n",
        "newlist =[]\n",
        "\n",
        "for i in l:\n",
        "    c= i**3\n",
        "    if c %4 ==0 or c%5==0:\n",
        "        newlist.append(i)\n",
        "print(newlist)"
      ],
      "metadata": {
        "colab": {
          "base_uri": "https://localhost:8080/"
        },
        "id": "FLYDGAoHJZlt",
        "outputId": "0aa56b27-461c-4396-8ce6-b920c05cacf2"
      },
      "execution_count": 6,
      "outputs": [
        {
          "output_type": "stream",
          "name": "stdout",
          "text": [
            "[2, 4, 5, 6, 8, 10, 12, 14, 15, 16, 18, 20, 22, 24, 25, 26, 28, 30, 32, 34, 35, 36, 38, 40, 42, 44, 45, 46, 48, 50, 52, 54, 55, 56, 58, 60, 62, 64, 65, 66, 68, 70, 72, 74, 75, 76, 78, 80, 82, 84, 85, 86, 88, 90, 92, 94, 95, 96, 98, 100]\n"
          ]
        }
      ]
    },
    {
      "cell_type": "code",
      "source": [
        "#while loop\n",
        "newlist2 =[]\n",
        "i =1\n",
        "while i <= len(l):\n",
        "    c = i**3\n",
        "    if c%4 ==0 or c%5 ==0:\n",
        "        newlist2.append(i)\n",
        "    i+=1\n",
        "print(newlist2)"
      ],
      "metadata": {
        "colab": {
          "base_uri": "https://localhost:8080/"
        },
        "id": "1dp2W09-JiSU",
        "outputId": "5d867784-cc1b-4316-8c36-aac661674359"
      },
      "execution_count": 7,
      "outputs": [
        {
          "output_type": "stream",
          "name": "stdout",
          "text": [
            "[2, 4, 5, 6, 8, 10, 12, 14, 15, 16, 18, 20, 22, 24, 25, 26, 28, 30, 32, 34, 35, 36, 38, 40, 42, 44, 45, 46, 48, 50, 52, 54, 55, 56, 58, 60, 62, 64, 65, 66, 68, 70, 72, 74, 75, 76, 78, 80, 82, 84, 85, 86, 88, 90, 92, 94, 95, 96, 98, 100]\n"
          ]
        }
      ]
    },
    {
      "cell_type": "markdown",
      "source": [
        "# ***Q5. Write a program to filter count vowels in the below-given string. string = \"I want to become a data scientist\"***"
      ],
      "metadata": {
        "id": "trBatdTJJrTY"
      }
    },
    {
      "cell_type": "code",
      "source": [
        "sts = str(input(\"Enter the input\"))\n",
        "vowels = 'aeiouAEIOU'\n",
        "count=0\n",
        "for char in sts:\n",
        "    if char in vowels:\n",
        "       count+=1\n",
        "print(count)"
      ],
      "metadata": {
        "colab": {
          "base_uri": "https://localhost:8080/"
        },
        "id": "5Tv3-vmeJtLW",
        "outputId": "4f49c71f-d193-4733-97dc-4a335c65fd42"
      },
      "execution_count": 8,
      "outputs": [
        {
          "output_type": "stream",
          "name": "stdout",
          "text": [
            "Enter the inputsubhanshu\n",
            "3\n"
          ]
        }
      ]
    },
    {
      "cell_type": "markdown",
      "source": [
        "# ***NAME - Subhanshu tripathi***\n",
        "# ***Email - tripathisubhanshu2@gmail.com***"
      ],
      "metadata": {
        "id": "SnNulXIvJ1E_"
      }
    }
  ]
}