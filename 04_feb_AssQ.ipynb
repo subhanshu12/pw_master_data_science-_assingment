{
  "nbformat": 4,
  "nbformat_minor": 0,
  "metadata": {
    "colab": {
      "provenance": []
    },
    "kernelspec": {
      "name": "python3",
      "display_name": "Python 3"
    },
    "language_info": {
      "name": "python"
    }
  },
  "cells": [
    {
      "cell_type": "markdown",
      "source": [
        "# **Q1 - Create a python program to sort the given list of tuples based on integer value using a lambda function. [('Sachin Tendulkar', 34357), ('Ricky Ponting', 27483), ('Jack Kallis', 25534), ('Virat Kohli', 24936)]**"
      ],
      "metadata": {
        "id": "4GdoMJRKSizs"
      }
    },
    {
      "cell_type": "code",
      "source": [
        "players = [('Sachin Tendulkar', 34357), ('Ricky Ponting', 27483), ('Jack Kallis', 25534), ('Virat Kohli', 24936)]\n",
        "\n",
        "sorted_players = sorted(players, key=lambda x: x[1], reverse=True)\n",
        "\n",
        "print(sorted_players)"
      ],
      "metadata": {
        "colab": {
          "base_uri": "https://localhost:8080/"
        },
        "id": "Pj53x1EtTDXL",
        "outputId": "71c393d3-7ac8-40af-abcd-3b97a27764d9"
      },
      "execution_count": 1,
      "outputs": [
        {
          "output_type": "stream",
          "name": "stdout",
          "text": [
            "[('Sachin Tendulkar', 34357), ('Ricky Ponting', 27483), ('Jack Kallis', 25534), ('Virat Kohli', 24936)]\n"
          ]
        }
      ]
    },
    {
      "cell_type": "markdown",
      "source": [
        "# ***Q2 - Q.2> Write a Python Program to find the squares of all the numbers in the given list of integers using lambda and map functions. [1, 2, 3, 4, 5, 6, 7, 8, 9, 10]***"
      ],
      "metadata": {
        "id": "LMYS0wd4TO3v"
      }
    },
    {
      "cell_type": "code",
      "source": [
        "numbers = [1, 2, 3, 4, 5, 6, 7, 8, 9, 10]\n",
        "\n",
        "squared_numbers = list(map(lambda x: x**2, numbers))\n",
        "\n",
        "print(squared_numbers)"
      ],
      "metadata": {
        "colab": {
          "base_uri": "https://localhost:8080/"
        },
        "id": "3W8Sl2qMTWVw",
        "outputId": "e954c792-213e-4031-9912-3675d32374e6"
      },
      "execution_count": 2,
      "outputs": [
        {
          "output_type": "stream",
          "name": "stdout",
          "text": [
            "[1, 4, 9, 16, 25, 36, 49, 64, 81, 100]\n"
          ]
        }
      ]
    },
    {
      "cell_type": "markdown",
      "source": [
        "# ***'Q.3> Write a python program to convert the given list of integers into a tuple of strings. Use map and lambda functions Given String: [1, 2, 3, 4, 5, 6, 7, 8, 9, 10] Expected output: ('1', '2', '3', '4', '5', '6', '7', '8', '9', '10')***"
      ],
      "metadata": {
        "id": "bAI0Bqd1TaS5"
      }
    },
    {
      "cell_type": "code",
      "source": [
        "numbers = [1, 2, 3, 4, 5, 6, 7, 8, 9, 10]\n",
        "\n",
        "string_numbers = tuple(map(lambda x: str(x), numbers))\n",
        "\n",
        "print(string_numbers)"
      ],
      "metadata": {
        "colab": {
          "base_uri": "https://localhost:8080/"
        },
        "id": "8VNK1hqlTii_",
        "outputId": "d07e97db-9d59-4f3d-d73c-bdb2e45dcc4f"
      },
      "execution_count": 3,
      "outputs": [
        {
          "output_type": "stream",
          "name": "stdout",
          "text": [
            "('1', '2', '3', '4', '5', '6', '7', '8', '9', '10')\n"
          ]
        }
      ]
    },
    {
      "cell_type": "markdown",
      "source": [
        "# ***Q4 -  Write a python program using reduce function to compute the product of a list containing numbers from 1 to 25***"
      ],
      "metadata": {
        "id": "XJLoNJW4TnKA"
      }
    },
    {
      "cell_type": "code",
      "source": [
        "from functools import reduce\n",
        "\n",
        "numbers = range(1, 26)\n",
        "\n",
        "product = reduce(lambda x, y: x * y, numbers)\n",
        "\n",
        "print(product)"
      ],
      "metadata": {
        "colab": {
          "base_uri": "https://localhost:8080/"
        },
        "id": "hOJzXEnQTsgB",
        "outputId": "b58f0126-6639-4bc3-a1be-7188343fd8a1"
      },
      "execution_count": 4,
      "outputs": [
        {
          "output_type": "stream",
          "name": "stdout",
          "text": [
            "15511210043330985984000000\n"
          ]
        }
      ]
    },
    {
      "cell_type": "markdown",
      "source": [
        "# ***Q.5> Write a python program to filter the numbers in a given list that are divisible by 2 and 3 using the filter function. [2, 3, 6, 9, 27, 60, 90, 120, 55, 46]***"
      ],
      "metadata": {
        "id": "9zHDc7slTwGo"
      }
    },
    {
      "cell_type": "code",
      "source": [
        "numbers = [2, 3, 6, 9, 27, 60, 90, 120, 55, 46]\n",
        "\n",
        "filtered_numbers = list(filter(lambda x: x % 2 == 0 and x % 3 == 0, numbers))\n",
        "\n",
        "print(filtered_numbers)"
      ],
      "metadata": {
        "colab": {
          "base_uri": "https://localhost:8080/"
        },
        "id": "99jFgCchT0pL",
        "outputId": "01968ce6-1cf5-4028-f5b3-591332fc6e2a"
      },
      "execution_count": 5,
      "outputs": [
        {
          "output_type": "stream",
          "name": "stdout",
          "text": [
            "[6, 60, 90, 120]\n"
          ]
        }
      ]
    },
    {
      "cell_type": "markdown",
      "source": [
        "# ***Q6. Write a python program to find palindromes in the given list of strings using lambda and filter function.***"
      ],
      "metadata": {
        "id": "ikX8to2HT8Ym"
      }
    },
    {
      "cell_type": "code",
      "source": [
        "string = ['python', 'php', 'aba', 'radar', 'level']\n",
        "\n",
        "print(\"Orginal list of strings:\")\n",
        "print(texts) \n",
        "result = list(filter(lambda x: (x == \"\".join(reversed(x))), texts)) \n",
        "print(\"\\nList of palindromes:\")\n",
        "print(result) "
      ],
      "metadata": {
        "id": "H59ObflRUbMs"
      },
      "execution_count": null,
      "outputs": []
    },
    {
      "cell_type": "markdown",
      "source": [
        "# ***by - Subhanshu tripathi***\n",
        "# ***Email - tripathisubhanshu2@gmail.com***"
      ],
      "metadata": {
        "id": "BdR2lqXbVBxQ"
      }
    }
  ]
}