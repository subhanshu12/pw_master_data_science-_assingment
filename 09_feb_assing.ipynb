{
  "nbformat": 4,
  "nbformat_minor": 0,
  "metadata": {
    "colab": {
      "provenance": []
    },
    "kernelspec": {
      "name": "python3",
      "display_name": "Python 3"
    },
    "language_info": {
      "name": "python"
    }
  },
  "cells": [
    {
      "cell_type": "markdown",
      "source": [
        "Q1, Create a vehicle class with an init method having instance variables as name_of_vehicle, max_speed\n",
        "and average_of_vehicle."
      ],
      "metadata": {
        "id": "8WkJQxcwJmOg"
      }
    },
    {
      "cell_type": "code",
      "source": [
        "class Vehicle:\n",
        "    def __init__(self, name_of_vehicle, max_speed, average_of_vehicle):\n",
        "        self.name_of_vehicle = name_of_vehicle\n",
        "        self.max_speed = max_speed\n",
        "        self.average_of_vehicle = average_of_vehicle\n",
        "        \n",
        "car = Vehicle(\"Car\", 200, 20)\n",
        "print(car.name_of_vehicle)  # \"Car\"\n",
        "print(car.max_speed)  # 200\n",
        "print(car.average_of_vehicle)  # 20"
      ],
      "metadata": {
        "colab": {
          "base_uri": "https://localhost:8080/"
        },
        "id": "hj81kjAvJnSQ",
        "outputId": "9b501418-864a-4c82-e7ac-044a13311c32"
      },
      "execution_count": 1,
      "outputs": [
        {
          "output_type": "stream",
          "name": "stdout",
          "text": [
            "Car\n",
            "200\n",
            "20\n"
          ]
        }
      ]
    },
    {
      "cell_type": "markdown",
      "source": [
        "Q2. Create a child class car from the vehicle class created in Que 1, which will inherit the vehicle class.\n",
        "Create a method named seating_capacity which takes capacity as an argument and returns the name of\n",
        "the vehicle and its seating capacity."
      ],
      "metadata": {
        "id": "UmoFfgogJuil"
      }
    },
    {
      "cell_type": "code",
      "source": [
        "class Car(Vehicle):\n",
        "    def seating_capacity(self, capacity):\n",
        "        return f\"The {self.name_of_vehicle} has a seating capacity of {capacity}.\"\n",
        "    \n",
        "my_car = Car(\"My Car\", 150, 15)\n",
        "print(my_car.seating_capacity(5))  # \"The My Car has a seating capacity of 5.\""
      ],
      "metadata": {
        "colab": {
          "base_uri": "https://localhost:8080/"
        },
        "id": "7jrpAiwwJxFW",
        "outputId": "b44c07ea-5f27-41a4-eb87-76f63b0c72ef"
      },
      "execution_count": 2,
      "outputs": [
        {
          "output_type": "stream",
          "name": "stdout",
          "text": [
            "The My Car has a seating capacity of 5.\n"
          ]
        }
      ]
    },
    {
      "cell_type": "markdown",
      "source": [
        "Q3. What is multiple inheritance? Write a python code to demonstrate multiple inheritance."
      ],
      "metadata": {
        "id": "39jC_t4fJ2qY"
      }
    },
    {
      "cell_type": "code",
      "source": [
        "class Engine:\n",
        "    def start(self):\n",
        "        return \"Engine started.\"\n",
        "\n",
        "class FuelSystem:\n",
        "    def fill_fuel(self, fuel_amount):\n",
        "        return f\"Fuel tank filled with {fuel_amount} liters.\"\n",
        "\n",
        "class Car(Engine, FuelSystem):\n",
        "    def drive(self):\n",
        "        return \"Car is driving.\"\n",
        "\n",
        "my_car = Car()\n",
        "print(my_car.start())  # \"Engine started.\"\n",
        "print(my_car.fill_fuel(50))  # \"Fuel tank filled with 50 liters.\"\n",
        "print(my_car.drive())  # \"Car is driving.\"\n",
        "#Multiple inheritance is a feature of object-oriented programming that allows a class to inherit attributes and behaviors from multiple parent classes. This allows for greater flexibility and code reuse, as a single class can inherit the characteristics of multiple existing classes."
      ],
      "metadata": {
        "id": "j9bhDHgsJ3o2"
      },
      "execution_count": null,
      "outputs": []
    },
    {
      "cell_type": "markdown",
      "source": [
        "Q4. What are getter and setter in python? Create a class and create a getter and a setter method in this\n",
        "class."
      ],
      "metadata": {
        "id": "uHBMxgTXKCCs"
      }
    },
    {
      "cell_type": "markdown",
      "source": [
        "Ans>    Getters and setters are methods in object-oriented programming that allow you to control access to the \n",
        "        attributes of an object. A getter method is used to retrieve the value of an attribute, while a setter \n",
        "        method is used to set the value of an attribute.'''"
      ],
      "metadata": {
        "id": "IHBFFj7NKJ8Z"
      }
    },
    {
      "cell_type": "code",
      "source": [
        "class Person:\n",
        "    def __init__(self, name, age):\n",
        "        self._name = name\n",
        "        self._age = age\n",
        "\n",
        "    @property\n",
        "    def name(self):\n",
        "        return self._name\n",
        "\n",
        "    @name.setter\n",
        "    def name(self, value):\n",
        "        if not isinstance(value, str):\n",
        "            raise TypeError(\"Name must be a string.\")\n",
        "        self._name = value\n",
        "\n",
        "    @property\n",
        "    def age(self):\n",
        "        return self._age\n",
        "\n",
        "    @age.setter\n",
        "    def age(self, value):\n",
        "        if not isinstance(value, int):\n",
        "            raise TypeError(\"Age must be an integer.\")\n",
        "        self._age = value\n",
        "\n",
        "person = Person(\"John Doe\", 30)\n",
        "print(person.name)  # \"John Doe\"\n",
        "person.name = \"Jane Doe\"\n",
        "print(person.name)  # \"Jane Doe\"\n",
        "print(person.age)  # 30\n",
        "person.age = 35\n",
        "print(person.age)  # 35\n"
      ],
      "metadata": {
        "colab": {
          "base_uri": "https://localhost:8080/"
        },
        "id": "saMXa41oKEs9",
        "outputId": "53d2756d-3bf1-4a3c-fa83-2c7e13f6804d"
      },
      "execution_count": 3,
      "outputs": [
        {
          "output_type": "stream",
          "name": "stdout",
          "text": [
            "John Doe\n",
            "Jane Doe\n",
            "30\n",
            "35\n"
          ]
        }
      ]
    },
    {
      "cell_type": "markdown",
      "source": [
        "Q5.What is method overriding in python? Write a python code to demonstrate method overriding."
      ],
      "metadata": {
        "id": "vtuZuDh_KQ7R"
      }
    },
    {
      "cell_type": "markdown",
      "source": [
        "Method overriding is a feature of object-oriented programming languages where the subclass or child class can provide the program with specific characteristics or a specific implementation process of data provided that are already defined in the parent class or superclass."
      ],
      "metadata": {
        "id": "edutOEjfKimC"
      }
    },
    {
      "cell_type": "code",
      "source": [
        "\n",
        "class Parent():\n",
        "\t\n",
        "\t# Constructor\n",
        "\tdef __init__(self):\n",
        "\t\tself.value = \"Inside Parent\"\n",
        "\t\t\n",
        "\t# Parent's show method\n",
        "\tdef show(self):\n",
        "\t\tprint(self.value)\n",
        "\t\t\n",
        "# Defining child class\n",
        "class Child(Parent):\n",
        "\t\n",
        "\t# Constructor\n",
        "\tdef __init__(self):\n",
        "\t\tself.value = \"Inside Child\"\n",
        "\t\t\n",
        "\t# Child's show method\n",
        "\tdef show(self):\n",
        "\t\tprint(self.value)\n",
        "\t\t\n",
        "\t\t\n",
        "# Driver's code\n",
        "obj1 = Parent()\n",
        "obj2 = Child()\n",
        "\n",
        "obj1.show()\n",
        "obj2.show()\n"
      ],
      "metadata": {
        "colab": {
          "base_uri": "https://localhost:8080/"
        },
        "id": "QS2ojVvBKThY",
        "outputId": "eb655ba1-5473-44af-a975-25a16ac47092"
      },
      "execution_count": 4,
      "outputs": [
        {
          "output_type": "stream",
          "name": "stdout",
          "text": [
            "Inside Parent\n",
            "Inside Child\n"
          ]
        }
      ]
    },
    {
      "cell_type": "code",
      "source": [],
      "metadata": {
        "id": "oFpRwSvBKuhb"
      },
      "execution_count": null,
      "outputs": []
    }
  ]
}