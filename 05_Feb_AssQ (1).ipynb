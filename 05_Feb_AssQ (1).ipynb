{
  "nbformat": 4,
  "nbformat_minor": 0,
  "metadata": {
    "colab": {
      "provenance": []
    },
    "kernelspec": {
      "name": "python3",
      "display_name": "Python 3"
    },
    "language_info": {
      "name": "python"
    }
  },
  "cells": [
    {
      "cell_type": "markdown",
      "source": [
        "# **Q1. Explain Class and Object with respect to Object-Oriented Programming. Give a suitable example.**"
      ],
      "metadata": {
        "id": "AEJeItLaVXCx"
      }
    },
    {
      "cell_type": "markdown",
      "source": [
        "# **Answer **- **Class** - A class is a blueprint that defines the variables and the methods (Characteristics) common to all objects of a certain kind.\n",
        "# Example: If Car is a class, then Maruti 800 is an object of the Car class. All cars share similar features like 4 wheels, 1 steering wheel, windows, breaks etc. Maruti 800 (The Car object) has all these features.\n",
        "\n",
        "# **Object** - The object is an entity that has a state and a behavior associated with it. It may be any real-world object like the mouse, keyboard, chair, table, pen, etc.Integers, strings, floating-point numbers, even arrays and dictionaries, are all objects. More specifically, any single integer or any single string is an object. The number 12 is an object, the string \"Hello, world\" is an object, a list is an object that can hold other objects, and so on. You've been using objects all along and may not even realize it.\n",
        "\n",
        "\n"
      ],
      "metadata": {
        "id": "efhRWITQVer8"
      }
    },
    {
      "cell_type": "markdown",
      "source": [
        "# **Q2. Name the four pillars of OOPs.**"
      ],
      "metadata": {
        "id": "o9A7swxQW7Aj"
      }
    },
    {
      "cell_type": "markdown",
      "source": [
        "# Answer - The Four Pillars of Object-Oriented Programming\n",
        "# 1 - Abstraction.\n",
        "# 2 - Encapsulation.\n",
        "# 3 - Inheritance.\n",
        "# 4 - Polymorphism."
      ],
      "metadata": {
        "id": "tfpH4WcEXAfB"
      }
    },
    {
      "cell_type": "markdown",
      "source": [
        "# **Q3. Explain why the __init__() function is used. Give a suitable example.**"
      ],
      "metadata": {
        "id": "fzjiTn_XXQ-t"
      }
    },
    {
      "cell_type": "markdown",
      "source": [
        "# The Default __init__ Constructor in C++ and Java. Constructors are used to initializing the object’s state. The task of constructors is to initialize(assign values) to the data members of the class when an object of the class is created. Like methods, a constructor also contains a collection of statements(i.e. instructions) that are executed at the time of Object creation. It is run as soon as an object of a class is instantiated. The method is useful to do any initialization you want to do with your object.\n",
        "\n",
        "# **example:**"
      ],
      "metadata": {
        "id": "EvOZLLKAXYMb"
      }
    },
    {
      "cell_type": "code",
      "source": [
        "# A Sample class with init method\n",
        "class Person:\n",
        "\n",
        "\t# init method or constructor\n",
        "\tdef __init__(self, name):\n",
        "\t\tself.name = name\n",
        "\n",
        "\t# Sample Method\n",
        "\tdef say_hi(self):\n",
        "\t\tprint('Hello, my name is', self.name)\n",
        "\n",
        "\n",
        "# Creating different objects\n",
        "p1 = Person('Nikhil')\n",
        "p2 = Person('Abhinav')\n",
        "p3 = Person('Anshul')\n",
        "\n",
        "p1.say_hi()\n",
        "p2.say_hi()\n",
        "p3.say_hi()\n"
      ],
      "metadata": {
        "id": "bNPsByXeX43f"
      },
      "execution_count": null,
      "outputs": []
    },
    {
      "cell_type": "markdown",
      "source": [
        "# **Q4. Why self is used in OOPs?**"
      ],
      "metadata": {
        "id": "bvZDBH2aX-tI"
      }
    },
    {
      "cell_type": "markdown",
      "source": [
        "# Answer - The self variable is used to represent the instance of the class which is often used in object-oriented programming. It works as a reference to the object. Python uses the self parameter to refer to instance attributes and methods of the class.  "
      ],
      "metadata": {
        "id": "K7Ahssi2YE5N"
      }
    },
    {
      "cell_type": "markdown",
      "source": [
        "# **Q5. What is inheritance? Give an example for each type of inheritance.**"
      ],
      "metadata": {
        "id": "flzBZ4NwYPaz"
      }
    },
    {
      "cell_type": "markdown",
      "source": [
        "# Answer - Inheritance is a process of obtaining properties and characteristics(variables and methods) of another class. In this hierarchical order, the class which inherits another class is called subclass or child class, and the other class is the parent class.\n",
        "\n",
        "# Inheritance is categorized based on the hierarchy followed and the number of parent classes and subclasses involved.\n",
        "\n",
        "# There are five types of inheritances:\n",
        "\n",
        "# Single Inheritance\n",
        "# Multiple Inheritance\n",
        "# Multilevel Inheritance\n",
        "# Hierarchical Inheritance\n",
        "# Hybrid Inheritance\n"
      ],
      "metadata": {
        "id": "oh2GjHIJYWjk"
      }
    },
    {
      "cell_type": "markdown",
      "source": [
        "# name - subhanshu tripathi\n",
        "# Email id - tripathisubhanshu2@gmail.com "
      ],
      "metadata": {
        "id": "-D0OKTxaZTtn"
      }
    }
  ]
}