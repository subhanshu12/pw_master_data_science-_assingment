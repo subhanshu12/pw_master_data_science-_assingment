{
  "nbformat": 4,
  "nbformat_minor": 0,
  "metadata": {
    "colab": {
      "provenance": []
    },
    "kernelspec": {
      "name": "python3",
      "display_name": "Python 3"
    },
    "language_info": {
      "name": "python"
    }
  },
  "cells": [
    {
      "cell_type": "markdown",
      "source": [
        "Q1. You are writing code for a company. The requirement of the company is that you create a python\n",
        "function that will check whether the password entered by the user is correct or not. The function should\n",
        "take the password as input and return the string “Valid Password” if the entered password follows the\n",
        "below-given password guidelines else it should return “Invalid Password”.\n",
        "Note: 1. The Password should contain at least two uppercase letters and at least two lowercase letters.\n",
        "2. The Password should contain at least a number and three special characters.\n",
        "3. The length of the password should be 10 characters long."
      ],
      "metadata": {
        "id": "tFDgWUxIHGR6"
      }
    },
    {
      "cell_type": "code",
      "source": [
        "import re\n",
        "password = \"R@m@_f0rtu9e$\"\n",
        "flag = 0\n",
        "while True:\n",
        "    if (len(password)<=8):\n",
        "        flag = -1\n",
        "        break\n",
        "    elif not re.search(\"[a-z]\", password):\n",
        "        flag = -1\n",
        "        break\n",
        "    elif not re.search(\"[A-Z]\", password):\n",
        "        flag = -1\n",
        "        break\n",
        "    elif not re.search(\"[0-9]\", password):\n",
        "        flag = -1\n",
        "        break\n",
        "    elif not re.search(\"[_@$]\" , password):\n",
        "        flag = -1\n",
        "        break\n",
        "    elif re.search(\"\\s\" , password):\n",
        "        flag = -1\n",
        "        break\n",
        "    else:\n",
        "        flag = 0\n",
        "        print(\"Valid Password\")\n",
        "        break\n",
        " \n",
        "if flag == -1:\n",
        "    print(\"Not a Valid Password \")\n"
      ],
      "metadata": {
        "id": "CfaMCZlxHPsh"
      },
      "execution_count": null,
      "outputs": []
    },
    {
      "cell_type": "markdown",
      "source": [
        "Q2. Solve the below-given questions using at least one of the following:\n",
        "1. Lambda functioJ\n",
        "2. Filter functioJ\n",
        "3. Zap functioJ\n",
        "4. List ComprehensioI\n",
        "B Check if the string starts with a particular letterY\n",
        "B Check if the string is numericY\n",
        "B Sort a list of tuples having fruit names and their quantity. [(\"mango\",99),(\"orange\",80), (\"grapes\", 1000)-\n",
        "B Find the squares of numbers from 1 to 10Y\n",
        "B Find the cube root of numbers from 1 to 10Y\n",
        "B Check if a given number is evenY\n",
        "B Filter odd numbers from the given list.\n",
        "[1,2,3,4,5,6,7,8,9,10-\n",
        "B Sort a list of integers into positive and negative integers lists.\n",
        "[1,2,3,4,5,6,-1,-2,-3,-4,-5,0]"
      ],
      "metadata": {
        "id": "4yZWenW2HXdz"
      }
    },
    {
      "cell_type": "code",
      "source": [
        "#Ans> 1.Check if the string starts with a particular letter:\n",
        "starts_with = lambda string, letter: string[0] == letter\n",
        "\n",
        "print(starts_with(\"Hello\", \"H\")) # True\n",
        "print(starts_with(\"Hello\", \"h\")) # False\n",
        "\n",
        "#2.Check if the string is numeric:\n",
        "def is_numeric(string):\n",
        "    return string.isdigit()\n",
        "\n",
        "print(is_numeric(\"123\")) # True\n",
        "print(is_numeric(\"abc\")) # False\n",
        "\n",
        "#3.Sort a list of tuples having fruit names and their quantity:\n",
        "fruits = [(\"mango\", 99), (\"orange\", 80), (\"grapes\", 1000)]\n",
        "\n",
        "sorted_fruits = sorted(fruits, key=lambda x: x[1])\n",
        "\n",
        "print(sorted_fruits) # [(\"mango\", 99), (\"orange\", 80), (\"grapes\", 1000)]\n",
        "\n",
        "#4.Find the squares of numbers from 1 to 10:\n",
        "squared_numbers = [x**2 for x in range(1, 11)]\n",
        "\n",
        "print(squared_numbers) # [1, 4, 9, 16, 25, 36, 49, 64, 81, 100]\n",
        "\n",
        "#5.Find the cube root of numbers from 1 to 10:\n",
        "import math\n",
        "\n",
        "cuberoot_numbers = [math.pow(x, 1/3) for x in range(1, 11)]\n",
        "\n",
        "print(cuberoot_numbers)\n",
        "\n",
        "#6.Check if a given number is even:\n",
        "\n",
        "def is_even(number):\n",
        "    return number % 2 == 0\n",
        "\n",
        "print(is_even(2)) # True\n",
        "print(is_even(3)) # False\n",
        "#7.Filter odd numbers from the given list:\n",
        "\n",
        "numbers = [1, 2, 3, 4, 5, 6, 7, 8, 9, 10]\n",
        "odd_numbers = [x for x in numbers if x % 2 != 0]\n",
        "\n",
        "print(odd_numbers) # [1, 3, 5, 7, 9]\n",
        "#8.Sort a list of integers into positive and negative integers lists:\n",
        "\n",
        "numbers = [1, 2, 3, 4, 5, 6, -1, -2, -3, -4, -5, 0]\n",
        "\n",
        "positive_numbers = [x for x in numbers if x > 0]\n",
        "negative_numbers = [x for x in numbers if x < 0]\n",
        "\n",
        "print(positive_numbers) # [1, 2, 3, 4,"
      ],
      "metadata": {
        "id": "Zmw8iu_LHYzs"
      },
      "execution_count": null,
      "outputs": []
    }
  ]
}