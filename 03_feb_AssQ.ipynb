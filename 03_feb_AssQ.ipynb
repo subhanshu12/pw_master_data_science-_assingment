{
  "nbformat": 4,
  "nbformat_minor": 0,
  "metadata": {
    "colab": {
      "provenance": []
    },
    "kernelspec": {
      "name": "python3",
      "display_name": "Python 3"
    },
    "language_info": {
      "name": "python"
    }
  },
  "cells": [
    {
      "cell_type": "markdown",
      "source": [
        "# ***Q1-Which keyword is used to create a function? Create a function to return a list of odd numbers in the range of 1 to 25. Ans> The keyword used to create a function in Python is \"def\". Here's the code to create a function that returns a list of odd numbers in the range of 1 to 25***"
      ],
      "metadata": {
        "id": "s0dJeF9VLAvr"
      }
    },
    {
      "cell_type": "code",
      "source": [
        "def odd_numbers():\n",
        "    odd_list = []\n",
        "    for i in range(1, 26):\n",
        "        if i % 2 != 0:\n",
        "            odd_list.append(i)\n",
        "    return odd_list\n",
        "odd_numbers()"
      ],
      "metadata": {
        "colab": {
          "base_uri": "https://localhost:8080/"
        },
        "id": "2vW18hnULLfm",
        "outputId": "b53df37f-284d-437b-fcc0-1563b1a59146"
      },
      "execution_count": 1,
      "outputs": [
        {
          "output_type": "execute_result",
          "data": {
            "text/plain": [
              "[1, 3, 5, 7, 9, 11, 13, 15, 17, 19, 21, 23, 25]"
            ]
          },
          "metadata": {},
          "execution_count": 1
        }
      ]
    },
    {
      "cell_type": "markdown",
      "source": [
        "# Q-2 Why args and kwargs is used in some functions? Create a function each for args and **kwargs to demonstrate their use. \n"
      ],
      "metadata": {
        "id": "b4gXMX1oLSdH"
      }
    },
    {
      "cell_type": "markdown",
      "source": [
        "# Answer - args and kwargs are used in functions to allow them to accept a varying number of arguments. *args is used to send a non-keyworded variable length argument list to the function. It allows you to pass a variable number of arguments to a function, which will be received as a tuple. kwargs is used to pass keyworded variable length of arguments to a function, which will be received as a dictionary. Here's an example of how you can use args and *kwargs in a function"
      ],
      "metadata": {
        "id": "3aCPja_qLyEa"
      }
    },
    {
      "cell_type": "code",
      "source": [
        "def print_args(*args):\n",
        "    print(\"Arguments passed as *args:\", args)\n",
        "    \n",
        "def print_kwargs(**kwargs):\n",
        "    print(\"Arguments passed as **kwargs:\", kwargs)"
      ],
      "metadata": {
        "id": "7tUPPlJeLaHL"
      },
      "execution_count": 2,
      "outputs": []
    },
    {
      "cell_type": "markdown",
      "source": [
        "# ***Q-3 What is an iterator in python? Name the method used to initialise the iterator object and the method used for iteration. Use these methods to print the first five elements of the given list [2, 4, 6, 8, 10, 12, 14, 16, 18, 20].***"
      ],
      "metadata": {
        "id": "OD5BmgXOLe2n"
      }
    },
    {
      "cell_type": "markdown",
      "source": [
        "# ***Answer - An iterator in Python is an object that implements the iterator protocol, which consists of two methods: iter() and next(). The iter() method is used to initialize the iterator object, and the next() method is used for iteration.***"
      ],
      "metadata": {
        "id": "HTxfpk0iMSEe"
      }
    },
    {
      "cell_type": "code",
      "source": [
        "#example\n",
        "numbers = [2, 4, 6, 8, 10, 12, 14, 16, 18, 20]\n",
        "\n",
        "class TopNumbers:\n",
        "    def __init__(self, limit):\n",
        "        self.limit = limit\n",
        "        self.counter = 0\n",
        "\n",
        "    def __iter__(self):\n",
        "        return self\n",
        "\n",
        "    def __next__(self):\n",
        "        if self.counter < self.limit:\n",
        "            number = numbers[self.counter]\n",
        "            self.counter += 1\n",
        "            return number\n",
        "        else:\n",
        "            raise StopIteration\n",
        "\n",
        "print(\"The first 5 numbers:\")\n",
        "for number in TopNumbers(5):\n",
        "    print(number)"
      ],
      "metadata": {
        "colab": {
          "base_uri": "https://localhost:8080/"
        },
        "id": "uHHh6ueqMV5H",
        "outputId": "7f9f8592-bc18-406e-88d9-f7082462db2d"
      },
      "execution_count": 3,
      "outputs": [
        {
          "output_type": "stream",
          "name": "stdout",
          "text": [
            "The first 5 numbers:\n",
            "2\n",
            "4\n",
            "6\n",
            "8\n",
            "10\n"
          ]
        }
      ]
    },
    {
      "cell_type": "markdown",
      "source": [
        "# ***Q4 - What is a generator function in python? Why yield keyword is used? Give an example of a generator function. Ans> A generator function in Python is a function that returns a generator iterator. The yield keyword is used to return a value from a generator function and pause the function's execution. When the generator function is called again, it resumes execution from where it left off, using the saved state from the last call to yield.***"
      ],
      "metadata": {
        "id": "2Ta5-QWMPTwQ"
      }
    },
    {
      "cell_type": "code",
      "source": [
        "def fibonacci_sequence(limit):\n",
        "    a, b = 0, 1\n",
        "    while a < limit:\n",
        "        yield a\n",
        "        a, b = b, a + b\n",
        "\n",
        "fib = fibonacci_sequence(20)\n",
        "\n",
        "print(\"Fibonacci sequence:\")\n",
        "for number in fib:\n",
        "    print(number)   "
      ],
      "metadata": {
        "colab": {
          "base_uri": "https://localhost:8080/"
        },
        "id": "EUzOcLP-PXnt",
        "outputId": "4f0243af-66e7-4088-874d-83b63698dc8f"
      },
      "execution_count": 4,
      "outputs": [
        {
          "output_type": "stream",
          "name": "stdout",
          "text": [
            "Fibonacci sequence:\n",
            "0\n",
            "1\n",
            "1\n",
            "2\n",
            "3\n",
            "5\n",
            "8\n",
            "13\n"
          ]
        }
      ]
    },
    {
      "cell_type": "markdown",
      "source": [
        "# ***Q5 - Create a generator function for prime numbers less than 1000. Use the next() method to print the first 20 prime numbers***"
      ],
      "metadata": {
        "id": "9oMnB0MvPhDn"
      }
    },
    {
      "cell_type": "code",
      "source": [
        "def prime_numbers():\n",
        "    yield 2\n",
        "    primes = [2]\n",
        "    candidate = 3\n",
        "    while candidate < 1000:\n",
        "        is_prime = True\n",
        "        for prime in primes:\n",
        "            if candidate % prime == 0:\n",
        "                is_prime = False\n",
        "                break\n",
        "        if is_prime:\n",
        "            primes.append(candidate)\n",
        "            yield candidate\n",
        "        candidate += 2\n",
        "\n",
        "primes = prime_numbers()\n",
        "\n",
        "print(\"The first 20 prime numbers:\")\n",
        "for i in range(20):\n",
        "    print(next(primes))"
      ],
      "metadata": {
        "colab": {
          "base_uri": "https://localhost:8080/"
        },
        "id": "VJsC3zk0Pk_q",
        "outputId": "6c6c1bb3-0eb0-4e78-e607-e8e9ec110f43"
      },
      "execution_count": 5,
      "outputs": [
        {
          "output_type": "stream",
          "name": "stdout",
          "text": [
            "The first 20 prime numbers:\n",
            "2\n",
            "3\n",
            "5\n",
            "7\n",
            "11\n",
            "13\n",
            "17\n",
            "19\n",
            "23\n",
            "29\n",
            "31\n",
            "37\n",
            "41\n",
            "43\n",
            "47\n",
            "53\n",
            "59\n",
            "61\n",
            "67\n",
            "71\n"
          ]
        }
      ]
    },
    {
      "cell_type": "markdown",
      "source": [
        "# ***Q6 - .Write a python program to print the first 10 Fibonacci numbers using a while looP***"
      ],
      "metadata": {
        "id": "QaDmWEeLPvF4"
      }
    },
    {
      "cell_type": "code",
      "source": [
        "a, b = 0, 1\n",
        "count = 0\n",
        "\n",
        "while count < 10:\n",
        "    print(a)\n",
        "    a, b = b, a + b\n",
        "    count += 1"
      ],
      "metadata": {
        "colab": {
          "base_uri": "https://localhost:8080/"
        },
        "id": "lQHl1X0XP07f",
        "outputId": "d253efd8-de30-4825-d700-890805988e51"
      },
      "execution_count": 6,
      "outputs": [
        {
          "output_type": "stream",
          "name": "stdout",
          "text": [
            "0\n",
            "1\n",
            "1\n",
            "2\n",
            "3\n",
            "5\n",
            "8\n",
            "13\n",
            "21\n",
            "34\n"
          ]
        }
      ]
    },
    {
      "cell_type": "markdown",
      "source": [
        "# ***Q7 - Write a List Comprehension to iterate through the given string: ‘pwskills’. Expected output: ['p', 'w', 's', 'k', 'i', 'l', 'l', 's']***"
      ],
      "metadata": {
        "id": "jrx-rNQYQSsS"
      }
    },
    {
      "cell_type": "code",
      "source": [
        "string = 'pwskills'\n",
        "characters = [char for char in string]\n",
        "print(characters)"
      ],
      "metadata": {
        "colab": {
          "base_uri": "https://localhost:8080/"
        },
        "id": "VX53cdCFQWHi",
        "outputId": "f7b9b5b8-0313-4c09-c13e-16c94c59086f"
      },
      "execution_count": 7,
      "outputs": [
        {
          "output_type": "stream",
          "name": "stdout",
          "text": [
            "['p', 'w', 's', 'k', 'i', 'l', 'l', 's']\n"
          ]
        }
      ]
    },
    {
      "cell_type": "markdown",
      "source": [
        "# ***Q8 - Write a python program to check whether a given number is Palindrome or not using a while loop.***"
      ],
      "metadata": {
        "id": "c4k1JW-hQdIW"
      }
    },
    {
      "cell_type": "code",
      "source": [
        "def is_palindrome(num):\n",
        "    original = num\n",
        "    reverse = 0\n",
        "    while num > 0:\n",
        "        digit = num % 10\n",
        "        reverse = reverse * 10 + digit\n",
        "        num = num // 10\n",
        "    return original == reverse\n",
        "\n",
        "number = int(input(\"Enter a number: \"))\n",
        "if is_palindrome(number):\n",
        "    print(f\"{number} is a palindrome.\")\n",
        "else:\n",
        "    print(f\"{number} is not a palindrome.\")"
      ],
      "metadata": {
        "colab": {
          "base_uri": "https://localhost:8080/"
        },
        "id": "77kshrmLQg6D",
        "outputId": "5f4853fd-10f1-4697-dc0c-6023e8ebc076"
      },
      "execution_count": 8,
      "outputs": [
        {
          "output_type": "stream",
          "name": "stdout",
          "text": [
            "Enter a number: 1233434\n",
            "1233434 is not a palindrome.\n"
          ]
        }
      ]
    },
    {
      "cell_type": "markdown",
      "source": [
        "# ***by - Subhanshu tripathi***\n",
        "# ***email - tripathisubhanshu2@gmail.com***"
      ],
      "metadata": {
        "id": "NwTeI-iUQopf"
      }
    }
  ]
}