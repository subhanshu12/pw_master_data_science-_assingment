{
  "nbformat": 4,
  "nbformat_minor": 0,
  "metadata": {
    "colab": {
      "provenance": []
    },
    "kernelspec": {
      "name": "python3",
      "display_name": "Python 3"
    },
    "language_info": {
      "name": "python"
    }
  },
  "cells": [
    {
      "cell_type": "markdown",
      "source": [
        "Q1. Create a function which will take a list as an argument and return the product of all the numbers\n",
        "after creating a flat list.\n",
        "Use the below-given list as an argument for your function.\n",
        "list1 = [1,2,3,4, [44,55,66, True], False, (34,56,78,89,34), {1,2,3,3,2,1}, {1:34, \"key2\": [55, 67, 78, 89], 4: (45,\n",
        "22, 61, 34)}, [56, 'data science'], 'Machine Learning']\n",
        "Note: you must extract numeric keys and values of the dictionary also.\n"
      ],
      "metadata": {
        "id": "I4e6fqWGBsOR"
      }
    },
    {
      "cell_type": "code",
      "source": [
        "from typing import List\n",
        "\n",
        "def get_product(lst: List):\n",
        "    flat_list = []\n",
        "    def flatten(lst):\n",
        "        for item in lst:\n",
        "            if type(item) in (list, tuple, set, dict):\n",
        "                flatten(item)\n",
        "            elif type(item) == int:\n",
        "                flat_list.append(item)\n",
        "    flatten(lst)\n",
        "    product = 1\n",
        "    for num in flat_list:\n",
        "        product *= num\n",
        "    return product\n",
        "\n",
        "list1 = [1,2,3,4, [44,55,66, True], False, (34,56,78,89,34), {1,2,3,3,2,1}, {1:34, \"key2\": [55, 67, 78, 89], 4: (45, 22, 61, 34)}, [56, 'data science'], 'Machine Learning']\n",
        "print(get_product(list1))"
      ],
      "metadata": {
        "colab": {
          "base_uri": "https://localhost:8080/"
        },
        "id": "wcUap0WZGUxP",
        "outputId": "53a6ac14-e64c-4182-a91b-62ea3fc046da"
      },
      "execution_count": 6,
      "outputs": [
        {
          "output_type": "stream",
          "name": "stdout",
          "text": [
            "2315262738624675840\n"
          ]
        }
      ]
    },
    {
      "cell_type": "markdown",
      "source": [
        "Q2. Write a python program for encrypting a message sent to you by your friend. The logic of encryption\n",
        "should be such that, for a the output should be z. For b, the output should be y. For c, the output should\n",
        "be x respectively. Also, the whitespace should be replaced with a dollar sign. Keep the punctuation\n",
        "marks unchanged.\n",
        "Input Sentence: I want to become a Data Scientist.\n",
        "Encrypt the above input sentence using the program you just created.\n",
        "Note: Convert the given input sentence into lowercase before encrypting. The final output should be\n",
        "lowercase."
      ],
      "metadata": {
        "id": "UE1zUyzRCIoo"
      }
    },
    {
      "cell_type": "code",
      "source": [
        "def encrypt(sentence):\n",
        "  sentence = sentence.lower()\n",
        "  encryption = {}\n",
        "  for i in range(26):\n",
        "    encryption[chr(i + ord('a'))] = chr((25 - i) + ord('a'))\n",
        "  encryption[' '] = '$'\n",
        "  encrypted_sentence = ''\n",
        "  for char in sentence:\n",
        "    if char in encryption:\n",
        "      encrypted_sentence += encryption[char]\n",
        "    else:\n",
        "      encrypted_sentence += char\n",
        "  return encrypted_sentence\n",
        "\n",
        "sentence = \"I want to become a Data Scientist.\"\n",
        "encrypted_sentence = encrypt(sentence)\n",
        "print(\"Encrypted sentence:\", encrypted_sentence)"
      ],
      "metadata": {
        "colab": {
          "base_uri": "https://localhost:8080/"
        },
        "id": "uLpzeFGLGhBg",
        "outputId": "ba035e07-61ec-48cd-f988-9e95e7c77a84"
      },
      "execution_count": 7,
      "outputs": [
        {
          "output_type": "stream",
          "name": "stdout",
          "text": [
            "Encrypted sentence: r$dzmg$gl$yvxlnv$z$wzgz$hxrvmgrhg.\n"
          ]
        }
      ]
    },
    {
      "cell_type": "markdown",
      "source": [
        "Name - subhanshu  tripathi\n",
        "Email - tripathisubhanshu2@gmail.com"
      ],
      "metadata": {
        "id": "xBaTKi5LDO9w"
      }
    }
  ]
}