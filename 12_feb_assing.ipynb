{
  "nbformat": 4,
  "nbformat_minor": 0,
  "metadata": {
    "colab": {
      "provenance": []
    },
    "kernelspec": {
      "name": "python3",
      "display_name": "Python 3"
    },
    "language_info": {
      "name": "python"
    }
  },
  "cells": [
    {
      "cell_type": "markdown",
      "source": [
        "Q1 - What is an Exeption in python? Write the difference between Exceptions and syntax errors?"
      ],
      "metadata": {
        "id": "1-Q8dO6PMtZA"
      }
    },
    {
      "cell_type": "markdown",
      "source": [
        "An exception in Python is an error that occurs during the execution of a program. It may be due to various reasons such as invalid input, division by zero, out of memory, or trying to access an undefined variable. When an exception occurs, the normal flow of the program is disrupted, and the program terminates.\n",
        "\n",
        "The key difference between exceptions and syntax errors is that exceptions occur during the execution of a program, while syntax errors occur before the program is executed. Additionally, exceptions can be handled and resolved programmatically, while syntax errors must be fixed manually by the programmer"
      ],
      "metadata": {
        "id": "Vxl5_HSGM562"
      }
    },
    {
      "cell_type": "markdown",
      "source": [
        "Q2 - What happens when an exception is not handled? Explain with an example"
      ],
      "metadata": {
        "id": "YH-JvMnBM836"
      }
    },
    {
      "cell_type": "markdown",
      "source": [
        "When an exception is not handled, the program terminates abruptly and generates a traceback, which is a detailed report of the error that occurred. The traceback provides information about the line of code where the error occurred, the type of error, and a description of the error."
      ],
      "metadata": {
        "id": "xFb5OpPdNC6J"
      }
    },
    {
      "cell_type": "code",
      "source": [
        "def divide(x, y):\n",
        "    result = x / y\n",
        "    return result\n",
        "\n",
        "print(divide(10, 5))\n",
        "print(divide(10, 0))"
      ],
      "metadata": {
        "colab": {
          "base_uri": "https://localhost:8080/",
          "height": 339
        },
        "id": "z9PrJTS6NJbk",
        "outputId": "2c72d751-dc85-4022-c0f7-c6b77bfa5d92"
      },
      "execution_count": 6,
      "outputs": [
        {
          "output_type": "stream",
          "name": "stdout",
          "text": [
            "2.0\n"
          ]
        },
        {
          "output_type": "error",
          "ename": "ZeroDivisionError",
          "evalue": "ignored",
          "traceback": [
            "\u001b[0;31m---------------------------------------------------------------------------\u001b[0m",
            "\u001b[0;31mZeroDivisionError\u001b[0m                         Traceback (most recent call last)",
            "\u001b[0;32m<ipython-input-6-4078b49b8c3e>\u001b[0m in \u001b[0;36m<module>\u001b[0;34m\u001b[0m\n\u001b[1;32m      4\u001b[0m \u001b[0;34m\u001b[0m\u001b[0m\n\u001b[1;32m      5\u001b[0m \u001b[0mprint\u001b[0m\u001b[0;34m(\u001b[0m\u001b[0mdivide\u001b[0m\u001b[0;34m(\u001b[0m\u001b[0;36m10\u001b[0m\u001b[0;34m,\u001b[0m \u001b[0;36m5\u001b[0m\u001b[0;34m)\u001b[0m\u001b[0;34m)\u001b[0m\u001b[0;34m\u001b[0m\u001b[0;34m\u001b[0m\u001b[0m\n\u001b[0;32m----> 6\u001b[0;31m \u001b[0mprint\u001b[0m\u001b[0;34m(\u001b[0m\u001b[0mdivide\u001b[0m\u001b[0;34m(\u001b[0m\u001b[0;36m10\u001b[0m\u001b[0;34m,\u001b[0m \u001b[0;36m0\u001b[0m\u001b[0;34m)\u001b[0m\u001b[0;34m)\u001b[0m\u001b[0;34m\u001b[0m\u001b[0;34m\u001b[0m\u001b[0m\n\u001b[0m",
            "\u001b[0;32m<ipython-input-6-4078b49b8c3e>\u001b[0m in \u001b[0;36mdivide\u001b[0;34m(x, y)\u001b[0m\n\u001b[1;32m      1\u001b[0m \u001b[0;32mdef\u001b[0m \u001b[0mdivide\u001b[0m\u001b[0;34m(\u001b[0m\u001b[0mx\u001b[0m\u001b[0;34m,\u001b[0m \u001b[0my\u001b[0m\u001b[0;34m)\u001b[0m\u001b[0;34m:\u001b[0m\u001b[0;34m\u001b[0m\u001b[0;34m\u001b[0m\u001b[0m\n\u001b[0;32m----> 2\u001b[0;31m     \u001b[0mresult\u001b[0m \u001b[0;34m=\u001b[0m \u001b[0mx\u001b[0m \u001b[0;34m/\u001b[0m \u001b[0my\u001b[0m\u001b[0;34m\u001b[0m\u001b[0;34m\u001b[0m\u001b[0m\n\u001b[0m\u001b[1;32m      3\u001b[0m     \u001b[0;32mreturn\u001b[0m \u001b[0mresult\u001b[0m\u001b[0;34m\u001b[0m\u001b[0;34m\u001b[0m\u001b[0m\n\u001b[1;32m      4\u001b[0m \u001b[0;34m\u001b[0m\u001b[0m\n\u001b[1;32m      5\u001b[0m \u001b[0mprint\u001b[0m\u001b[0;34m(\u001b[0m\u001b[0mdivide\u001b[0m\u001b[0;34m(\u001b[0m\u001b[0;36m10\u001b[0m\u001b[0;34m,\u001b[0m \u001b[0;36m5\u001b[0m\u001b[0;34m)\u001b[0m\u001b[0;34m)\u001b[0m\u001b[0;34m\u001b[0m\u001b[0;34m\u001b[0m\u001b[0m\n",
            "\u001b[0;31mZeroDivisionError\u001b[0m: division by zero"
          ]
        }
      ]
    },
    {
      "cell_type": "markdown",
      "source": [
        "Q3. Which Python statements are used to catch and handle exceptions? Explain with an example"
      ],
      "metadata": {
        "id": "xC2IXR1gNOMN"
      }
    },
    {
      "cell_type": "markdown",
      "source": [
        "In Python, exceptions can be caught and handled using the try and except statements. The try block contains the code that might raise an exception, and the except block contains the code that will handle the exception if it occurs.\n",
        "\n",
        "Here is an example of how to use the try and except statements to handle a ZeroDivisionError exception:"
      ],
      "metadata": {
        "id": "doVI4H6ONRuX"
      }
    },
    {
      "cell_type": "code",
      "source": [
        "def divide(x, y):\n",
        "    try:\n",
        "        result = x / y\n",
        "    except ZeroDivisionError:\n",
        "        print(\"Cannot divide by zero\")\n",
        "    else:\n",
        "        return result\n",
        "\n",
        "print(divide(10, 5)) # Output: 2.0\n",
        "print(divide(10, 0)) # Output: Cannot divide by zero\n",
        "     "
      ],
      "metadata": {
        "colab": {
          "base_uri": "https://localhost:8080/"
        },
        "id": "Zi5rewWjNUsP",
        "outputId": "401522d9-0493-4f29-911a-a28aa5f7409a"
      },
      "execution_count": 7,
      "outputs": [
        {
          "output_type": "stream",
          "name": "stdout",
          "text": [
            "2.0\n",
            "Cannot divide by zero\n",
            "None\n"
          ]
        }
      ]
    },
    {
      "cell_type": "markdown",
      "source": [
        "Q4. Explain with an example:#\n",
        "\n",
        "try and else\n",
        "finally\n",
        "raise\n"
      ],
      "metadata": {
        "id": "GdZbJjf3NaUO"
      }
    },
    {
      "cell_type": "code",
      "source": [
        "# try and else statements can be used in combination to handle exceptions in Python. The else block is executed if no exceptions are raised in the try block.\n",
        "#example\n",
        "\n",
        "def divide(x, y):\n",
        "    try:\n",
        "        result = x / y\n",
        "    except ZeroDivisionError:\n",
        "        print(\"Cannot divide by zero\")\n",
        "    else:\n",
        "        return result\n",
        "\n",
        "print(divide(10, 5)) # Output: 2.0\n",
        "print(divide(10, 2)) # Output: 5.0"
      ],
      "metadata": {
        "id": "WIeLG5HENbhV"
      },
      "execution_count": null,
      "outputs": []
    },
    {
      "cell_type": "code",
      "source": [
        "#The finally statement in Python is used to specify a block of code that should be executed regardless of whether an exception occurs or not. The code in the finally block is guaranteed to be executed, even if an exception is raised and not caught in the try block.\n",
        "#example\n",
        "def divide(x, y):\n",
        "    try:\n",
        "        result = x / y\n",
        "    except ZeroDivisionError:\n",
        "        print(\"Cannot divide by zero\")\n",
        "        result = None\n",
        "    finally:\n",
        "        print(\"Executing finally block\")\n",
        "    return result\n",
        "\n",
        "print(divide(10, 5)) # Output: Executing finally block \\n 2.0\n",
        "print(divide(10, 0)) # Output: Cannot divide by zero \\n Executing finally block \\n None\n",
        "     "
      ],
      "metadata": {
        "colab": {
          "base_uri": "https://localhost:8080/"
        },
        "id": "yKC2a1IMNebq",
        "outputId": "c87597a1-3691-499e-fc80-a0b869e2ac27"
      },
      "execution_count": 8,
      "outputs": [
        {
          "output_type": "stream",
          "name": "stdout",
          "text": [
            "Executing finally block\n",
            "2.0\n",
            "Cannot divide by zero\n",
            "Executing finally block\n",
            "None\n"
          ]
        }
      ]
    },
    {
      "cell_type": "code",
      "source": [
        "#The raise statement in Python is used to raise an exception explicitly. It is used to indicate that an error has occurred and to stop the normal execution of the program.\n",
        "#example\n",
        "\n",
        "def divide(x, y):\n",
        "    if y == 0:\n",
        "        raise ZeroDivisionError(\"Cannot divide by zero\")\n",
        "    return x / y\n",
        "\n",
        "try:\n",
        "    print(divide(10, 5)) # Output: 2.0\n",
        "    print(divide(10, 0))\n",
        "except ZeroDivisionError as e:\n",
        "    print(e) # Output: Cannot divide by zero"
      ],
      "metadata": {
        "colab": {
          "base_uri": "https://localhost:8080/"
        },
        "id": "S5-hZK9pNj_-",
        "outputId": "3cd4b49d-6caa-4256-b6f6-b3a0ee47122f"
      },
      "execution_count": 9,
      "outputs": [
        {
          "output_type": "stream",
          "name": "stdout",
          "text": [
            "2.0\n",
            "Cannot divide by zero\n"
          ]
        }
      ]
    },
    {
      "cell_type": "markdown",
      "source": [
        "Q5. What are Custom Exceptions in python? What do we need Custom Exceptions ? Explain in with an example\n",
        "\n",
        "Custom exceptions are user-defined exceptions in Python. They allow you to define specific types of exceptions for your application, so you can handle errors and exceptions in a more organized and meaningful way.\n",
        "\n",
        "For example, consider a scenario where you are writing a library that performs some mathematical calculations. In this library, you may encounter several different types of errors, such as invalid input, overflow, and divide-by-zero errors. You could handle these errors by raising built-in exceptions, such as ValueError or ZeroDivisionError, but it may not provide enough context or information about the error that has occurred."
      ],
      "metadata": {
        "id": "bTyIQJTsNmDY"
      }
    },
    {
      "cell_type": "code",
      "source": [
        "class InvalidInputError(Exception):\n",
        "    pass\n",
        "\n",
        "class OverflowError(Exception):\n",
        "    pass\n",
        "\n",
        "class DivideByZeroError(Exception):\n",
        "    pass\n",
        "\n",
        "def divide(x, y):\n",
        "    if y == 0:\n",
        "        raise DivideByZeroError(\"Cannot divide by zero\")\n",
        "    return x / y\n",
        "\n",
        "def calculate(x, y):\n",
        "    try:\n",
        "        if x < 0 or y < 0:\n",
        "            raise InvalidInputError(\"Input values must be positive\")\n",
        "        result = divide(x, y)\n",
        "    except DivideByZeroError as e:\n",
        "        print(e)\n",
        "    except InvalidInputError as e:\n",
        "        print(e)\n",
        "    else:\n",
        "        return result\n",
        "\n",
        "print(calculate(10, 5)) # Output: 2.0\n",
        "print(calculate(-10, 5)) # Output: Input values must be positive\n",
        "print(calculate(10, 0)) # Output: Cannot divide by zero"
      ],
      "metadata": {
        "id": "7_d0TcmwNo3d"
      },
      "execution_count": null,
      "outputs": []
    },
    {
      "cell_type": "markdown",
      "source": [
        "Q6. Create a custom exception class. Use this class to handle an exception."
      ],
      "metadata": {
        "id": "mpKiJZgVNFqr"
      }
    },
    {
      "cell_type": "code",
      "source": [
        "class CustomException(Exception):\n",
        "    pass\n",
        "\n",
        "def divide(x, y):\n",
        "    if y == 0:\n",
        "        raise CustomException(\"Cannot divide by zero\")\n",
        "    return x / y\n",
        "\n",
        "try:\n",
        "    print(divide(10, 5)) # Output: 2.0\n",
        "    print(divide(10, 0))\n",
        "except CustomException as e:\n",
        "    print(e) # Output: Cannot divide by zero\n",
        "     "
      ],
      "metadata": {
        "id": "8nJYQM0pNxO8"
      },
      "execution_count": null,
      "outputs": []
    }
  ]
}