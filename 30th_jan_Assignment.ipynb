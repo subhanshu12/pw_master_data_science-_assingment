{
  "nbformat": 4,
  "nbformat_minor": 0,
  "metadata": {
    "colab": {
      "provenance": []
    },
    "kernelspec": {
      "name": "python3",
      "display_name": "Python 3"
    },
    "language_info": {
      "name": "python"
    }
  },
  "cells": [
    {
      "cell_type": "markdown",
      "source": [
        "Q1-"
      ],
      "metadata": {
        "id": "7ALuthJ8LZ_y"
      }
    },
    {
      "cell_type": "code",
      "execution_count": 1,
      "metadata": {
        "colab": {
          "base_uri": "https://localhost:8080/"
        },
        "id": "QugdcTRkLFkp",
        "outputId": "3314e63a-a21b-493e-b466-5859ae4cf649"
      },
      "outputs": [
        {
          "output_type": "stream",
          "name": "stdout",
          "text": [
            "enter your marks86\n",
            "Your Grade is B\n"
          ]
        }
      ],
      "source": [
        "marks = int(input(\"enter your marks\"))\n",
        "if marks >90:\n",
        "    print (\"Your Grade is A\")\n",
        "elif marks >80 and marks <=90 :\n",
        "    print(\"Your Grade is B\")\n",
        "elif marks >=60 and marks <=80 :\n",
        "    print(\"Your Grade is C\")\n",
        "else :\n",
        "    print(\"Your Grade is D\")"
      ]
    },
    {
      "cell_type": "markdown",
      "source": [
        "Q2-"
      ],
      "metadata": {
        "id": "oegeuw32LghW"
      }
    },
    {
      "cell_type": "code",
      "source": [
        "price = int(input(\"enter the price of bike \"))\n",
        "if price >100000 :\n",
        "    print (\"Your road tax is 15%\")\n",
        "elif price >50000 and price <100000 :\n",
        "    print(\"Your road tax is 10%\")\n",
        "else :\n",
        "    print(\"Your road tax is 5%\")\n"
      ],
      "metadata": {
        "colab": {
          "base_uri": "https://localhost:8080/"
        },
        "id": "_qtxyzlMLjLk",
        "outputId": "3abcd6a2-1423-46ee-d21f-8be145644272"
      },
      "execution_count": 2,
      "outputs": [
        {
          "output_type": "stream",
          "name": "stdout",
          "text": [
            "enter the price of bike 5000\n",
            "Your road tax is 5%\n"
          ]
        }
      ]
    },
    {
      "cell_type": "markdown",
      "source": [
        "Q3 -"
      ],
      "metadata": {
        "id": "9Jgiq39vLn7n"
      }
    },
    {
      "cell_type": "code",
      "source": [
        "city = input(\"enter your city\")\n",
        "if city == \"Delhi\" :\n",
        "    print(\"Monument of your city is Red Fort\")\n",
        "if city == \"Agra\" :\n",
        "    print(\"Monument of your city is Tajmahal\")\n",
        "if city == \"Jaipur\":\n",
        "    print(\"Monument of your city is Jal Mahal\")"
      ],
      "metadata": {
        "colab": {
          "base_uri": "https://localhost:8080/"
        },
        "id": "HZkiENyCLsRQ",
        "outputId": "ba0d2304-89e7-419c-c08b-492442bafff1"
      },
      "execution_count": 3,
      "outputs": [
        {
          "name": "stdout",
          "output_type": "stream",
          "text": [
            "enter your cityjaipur\n"
          ]
        }
      ]
    },
    {
      "cell_type": "markdown",
      "source": [
        "Q4"
      ],
      "metadata": {
        "id": "rJ3g6WbzL8o3"
      }
    },
    {
      "cell_type": "code",
      "source": [
        "num = int(input(\"Enter the numbers\"))\n",
        "count = 0\n",
        "while num > 10:\n",
        "    num = num / 3\n",
        "    count += 1\n",
        "print(count)\n"
      ],
      "metadata": {
        "colab": {
          "base_uri": "https://localhost:8080/"
        },
        "id": "KX0f_FmRMB7q",
        "outputId": "b66a3060-147f-4dbb-8dfc-acaf7a74b031"
      },
      "execution_count": 4,
      "outputs": [
        {
          "output_type": "stream",
          "name": "stdout",
          "text": [
            "Enter the numbers6\n",
            "0\n"
          ]
        }
      ]
    },
    {
      "cell_type": "markdown",
      "source": [
        "Q5-"
      ],
      "metadata": {
        "id": "DUN-mU_pMH1g"
      }
    },
    {
      "cell_type": "markdown",
      "source": [
        "'Ans => Python while loop is used to run a block code until a certain condition is met.\n",
        "      The syntax of while loop is:\n",
        "      while condition:\n",
        "      # body of while loop\n",
        "      Here,\n",
        "      A while loop evaluates the condition\n",
        "      If the condition evaluates to True, the code inside the while loop is executed.\n",
        "      condition is evaluated again.\n",
        "      This process continues until the condition is False.\n",
        "      When condition evaluates to False, the loop stops''"
      ],
      "metadata": {
        "id": "KxL7x2z9MOzI"
      }
    },
    {
      "cell_type": "markdown",
      "source": [
        "Q6"
      ],
      "metadata": {
        "id": "pXHR1MYrMQrN"
      }
    },
    {
      "cell_type": "code",
      "source": [
        "# Pattern 1:\n",
        "i = 1\n",
        "while i <= 5:\n",
        "    j = 1\n",
        "    while j <= i:\n",
        "        print(\"*\", end=\"\")\n",
        "        j += 1\n",
        "    print(\"\")\n",
        "    i += 1\n",
        "    \n",
        "print(\"-----\")\n",
        "# Pattern 2:\n",
        "i = 5\n",
        "while i >= 1:\n",
        "    j = i\n",
        "    while j >= 1:\n",
        "        print(\"*\", end=\"\")\n",
        "        j -= 1\n",
        "    print(\"\")\n",
        "    i -= 1\n",
        "\n",
        "print(\"-----\")\n",
        "# Pattern 3:\n",
        "i = 5\n",
        "while i >= 1:\n",
        "    j = 1\n",
        "    while j <= 5:\n",
        "        if j >= i:\n",
        "            print(\"*\", end=\"\")\n",
        "        else:\n",
        "            print(\" \", end=\"\")\n",
        "        j += 1\n",
        "    print(\"\")\n",
        "    i -= 1"
      ],
      "metadata": {
        "id": "C4ncbGIBMWu3"
      },
      "execution_count": null,
      "outputs": []
    },
    {
      "cell_type": "code",
      "source": [
        "i = 10\n",
        "while i > 0:\n",
        "    i = i - 1\n",
        "print(i)"
      ],
      "metadata": {
        "id": "I7Ng5Jh1MJbH"
      },
      "execution_count": null,
      "outputs": []
    }
  ]
}